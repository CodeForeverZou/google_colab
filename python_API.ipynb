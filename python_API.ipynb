{
  "nbformat": 4,
  "nbformat_minor": 0,
  "metadata": {
    "colab": {
      "name": "python API.ipynb",
      "provenance": [],
      "collapsed_sections": [],
      "authorship_tag": "ABX9TyMTmy3e0+cAFNFg4/g/GfzZ",
      "include_colab_link": true
    },
    "kernelspec": {
      "name": "python3",
      "display_name": "Python 3"
    },
    "language_info": {
      "name": "python"
    }
  },
  "cells": [
    {
      "cell_type": "markdown",
      "metadata": {
        "id": "view-in-github",
        "colab_type": "text"
      },
      "source": [
        "<a href=\"https://colab.research.google.com/github/CodeForeverZou/google_colab/blob/main/python_API.ipynb\" target=\"_parent\"><img src=\"https://colab.research.google.com/assets/colab-badge.svg\" alt=\"Open In Colab\"/></a>"
      ]
    },
    {
      "cell_type": "markdown",
      "source": [
        "# 日期-时间 datetime模块"
      ],
      "metadata": {
        "id": "jc5u6A6qNo4o"
      }
    },
    {
      "cell_type": "markdown",
      "source": [
        "三种 数据格式：date、time、datetime\n",
        "## 1、date对象"
      ],
      "metadata": {
        "id": "FA0D7Ve0N8rX"
      }
    },
    {
      "cell_type": "code",
      "execution_count": null,
      "metadata": {
        "colab": {
          "base_uri": "https://localhost:8080/"
        },
        "id": "O4xq7839Nlfx",
        "outputId": "97d58348-5d30-4e28-ea91-29e8558bd80c"
      },
      "outputs": [
        {
          "output_type": "stream",
          "name": "stdout",
          "text": [
            "66 days, 0:00:00\n"
          ]
        }
      ],
      "source": [
        "from datetime import date\n",
        "today = date.today()\n",
        "begin_time = date(2022, 5, 20)\n",
        "\n",
        "days_statistic = today - begin_time\n",
        "print(days_statistic)"
      ]
    }
  ]
}